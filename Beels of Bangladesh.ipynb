{
 "cells": [
  {
   "cell_type": "code",
   "execution_count": 22,
   "metadata": {},
   "outputs": [],
   "source": [
    "import tabula\n",
    "import pandas as pd"
   ]
  },
  {
   "cell_type": "code",
   "execution_count": 23,
   "metadata": {},
   "outputs": [],
   "source": [
    "\n",
    "def extract_table_first_page(pdf_path_path):\n",
    "    table = tabula.read_pdf(pdf_path_path, pages=79, multiple_tables=False)\n",
    "    df = table[0]\n",
    "    df.drop(df.columns[0], axis=1, inplace=True)\n",
    "    df.columns = ['Name of Beel', 'Upazilla', 'District', 'Division', 'Area\\r(ha)']  \n",
    "\n",
    "    df.drop(index=[0, 1], axis=0, inplace=True)\n",
    "    return df"
   ]
  },
  {
   "cell_type": "code",
   "execution_count": 24,
   "metadata": {},
   "outputs": [],
   "source": [
    "def extract_table_second_page(pdf_path, start_page, end_page):\n",
    "    all_tables = []\n",
    "    for page in range(start_page, end_page + 1):\n",
    "        current_page_tables = tabula.read_pdf(pdf_path, pages=page)\n",
    "        all_tables.extend(current_page_tables)\n",
    "    \n",
    "    concatenated_df = pd.concat(all_tables, ignore_index=True)\n",
    "    concatenated_df.drop(concatenated_df.columns[[0, 1, -1]], axis=1, inplace=True)\n",
    "    return concatenated_df"
   ]
  },
  {
   "cell_type": "code",
   "execution_count": 25,
   "metadata": {},
   "outputs": [],
   "source": [
    "def extract_table_third_page(pdf_path, start_page, end_page):\n",
    "    all_tables = []\n",
    "    for page in range(start_page, end_page + 1):\n",
    "        current_page_tables = tabula.read_pdf(pdf_path, pages=page)\n",
    "        all_tables.extend(current_page_tables)\n",
    "    \n",
    "    concatenated_df = pd.concat(all_tables, ignore_index=True)\n",
    "    concatenated_df.drop(concatenated_df.columns[[0, 1, -1]], axis=1, inplace=True)\n",
    "    return concatenated_df"
   ]
  },
  {
   "cell_type": "code",
   "execution_count": 28,
   "metadata": {},
   "outputs": [],
   "source": [
    "\n",
    "# File paths\n",
    "pdf_path = 'BeelsBD.pdf'\n",
    "\n",
    "# Extract tables from each file\n",
    "table_first_page = extract_table_first_page(pdf_path)\n",
    "table_second_page = extract_table_second_page(pdf_path, 80, 148)\n",
    "table_third_page = extract_table_third_page(pdf_path, 19, 77)\n",
    "\n",
    "# Merge tables\n",
    "merged_df = pd.concat([table_first_page, table_second_page, table_third_page], ignore_index=True)\n",
    "\n",
    "# Named a new column of SerialNo to the first column\n",
    "merged_df.insert(0, 'SerialNo', range(1, len(merged_df) + 1))\n",
    "\n",
    "# Save the merged DataFrame to a CSV file\n",
    "merged_df.to_csv(\"Beels_of_Bangladesh.csv\", index=False)\n"
   ]
  }
 ],
 "metadata": {
  "kernelspec": {
   "display_name": "Python 3",
   "language": "python",
   "name": "python3"
  },
  "language_info": {
   "codemirror_mode": {
    "name": "ipython",
    "version": 3
   },
   "file_extension": ".py",
   "mimetype": "text/x-python",
   "name": "python",
   "nbconvert_exporter": "python",
   "pygments_lexer": "ipython3",
   "version": "3.11.3"
  }
 },
 "nbformat": 4,
 "nbformat_minor": 2
}
